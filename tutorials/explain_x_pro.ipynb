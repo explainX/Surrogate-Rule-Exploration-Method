{
 "cells": [
  {
   "cell_type": "code",
   "execution_count": 9,
   "metadata": {},
   "outputs": [],
   "source": [
    "from explainx_pro import *\n",
    "from sklearn.ensemble import RandomForestClassifier\n",
    "from sklearn.model_selection import train_test_split"
   ]
  },
  {
   "cell_type": "code",
   "execution_count": 11,
   "metadata": {},
   "outputs": [],
   "source": [
    "X,y = explainx_pro.dataset_heloc()\n",
    "# X,y= explainx_pro.dataset_iris()\n",
    "\n",
    "# Split data into train and test.\n",
    "X_train, X_test, y_train, y_test = train_test_split(X,y, test_size=0.3, random_state=0)\n"
   ]
  },
  {
   "cell_type": "code",
   "execution_count": 12,
   "metadata": {},
   "outputs": [
    {
     "ename": "FileNotFoundError",
     "evalue": "[Errno 2] File ionosphere.csv does not exist: 'ionosphere.csv'",
     "output_type": "error",
     "traceback": [
      "\u001b[1;31m---------------------------------------------------------------------------\u001b[0m",
      "\u001b[1;31mFileNotFoundError\u001b[0m                         Traceback (most recent call last)",
      "\u001b[1;32m<ipython-input-12-e5b371983bf8>\u001b[0m in \u001b[0;36m<module>\u001b[1;34m\u001b[0m\n\u001b[1;32m----> 1\u001b[1;33m \u001b[0mdf\u001b[0m \u001b[1;33m=\u001b[0m \u001b[0mpd\u001b[0m\u001b[1;33m.\u001b[0m\u001b[0mread_csv\u001b[0m\u001b[1;33m(\u001b[0m\u001b[1;34m\"ionosphere.csv\"\u001b[0m\u001b[1;33m,\u001b[0m\u001b[0mheader\u001b[0m\u001b[1;33m=\u001b[0m\u001b[1;32mNone\u001b[0m\u001b[1;33m)\u001b[0m\u001b[1;33m\u001b[0m\u001b[1;33m\u001b[0m\u001b[0m\n\u001b[0m",
      "\u001b[1;32mc:\\users\\tawab\\anaconda3\\envs\\explain_x\\lib\\site-packages\\pandas\\io\\parsers.py\u001b[0m in \u001b[0;36mparser_f\u001b[1;34m(filepath_or_buffer, sep, delimiter, header, names, index_col, usecols, squeeze, prefix, mangle_dupe_cols, dtype, engine, converters, true_values, false_values, skipinitialspace, skiprows, skipfooter, nrows, na_values, keep_default_na, na_filter, verbose, skip_blank_lines, parse_dates, infer_datetime_format, keep_date_col, date_parser, dayfirst, cache_dates, iterator, chunksize, compression, thousands, decimal, lineterminator, quotechar, quoting, doublequote, escapechar, comment, encoding, dialect, error_bad_lines, warn_bad_lines, delim_whitespace, low_memory, memory_map, float_precision)\u001b[0m\n\u001b[0;32m    674\u001b[0m         )\n\u001b[0;32m    675\u001b[0m \u001b[1;33m\u001b[0m\u001b[0m\n\u001b[1;32m--> 676\u001b[1;33m         \u001b[1;32mreturn\u001b[0m \u001b[0m_read\u001b[0m\u001b[1;33m(\u001b[0m\u001b[0mfilepath_or_buffer\u001b[0m\u001b[1;33m,\u001b[0m \u001b[0mkwds\u001b[0m\u001b[1;33m)\u001b[0m\u001b[1;33m\u001b[0m\u001b[1;33m\u001b[0m\u001b[0m\n\u001b[0m\u001b[0;32m    677\u001b[0m \u001b[1;33m\u001b[0m\u001b[0m\n\u001b[0;32m    678\u001b[0m     \u001b[0mparser_f\u001b[0m\u001b[1;33m.\u001b[0m\u001b[0m__name__\u001b[0m \u001b[1;33m=\u001b[0m \u001b[0mname\u001b[0m\u001b[1;33m\u001b[0m\u001b[1;33m\u001b[0m\u001b[0m\n",
      "\u001b[1;32mc:\\users\\tawab\\anaconda3\\envs\\explain_x\\lib\\site-packages\\pandas\\io\\parsers.py\u001b[0m in \u001b[0;36m_read\u001b[1;34m(filepath_or_buffer, kwds)\u001b[0m\n\u001b[0;32m    446\u001b[0m \u001b[1;33m\u001b[0m\u001b[0m\n\u001b[0;32m    447\u001b[0m     \u001b[1;31m# Create the parser.\u001b[0m\u001b[1;33m\u001b[0m\u001b[1;33m\u001b[0m\u001b[1;33m\u001b[0m\u001b[0m\n\u001b[1;32m--> 448\u001b[1;33m     \u001b[0mparser\u001b[0m \u001b[1;33m=\u001b[0m \u001b[0mTextFileReader\u001b[0m\u001b[1;33m(\u001b[0m\u001b[0mfp_or_buf\u001b[0m\u001b[1;33m,\u001b[0m \u001b[1;33m**\u001b[0m\u001b[0mkwds\u001b[0m\u001b[1;33m)\u001b[0m\u001b[1;33m\u001b[0m\u001b[1;33m\u001b[0m\u001b[0m\n\u001b[0m\u001b[0;32m    449\u001b[0m \u001b[1;33m\u001b[0m\u001b[0m\n\u001b[0;32m    450\u001b[0m     \u001b[1;32mif\u001b[0m \u001b[0mchunksize\u001b[0m \u001b[1;32mor\u001b[0m \u001b[0miterator\u001b[0m\u001b[1;33m:\u001b[0m\u001b[1;33m\u001b[0m\u001b[1;33m\u001b[0m\u001b[0m\n",
      "\u001b[1;32mc:\\users\\tawab\\anaconda3\\envs\\explain_x\\lib\\site-packages\\pandas\\io\\parsers.py\u001b[0m in \u001b[0;36m__init__\u001b[1;34m(self, f, engine, **kwds)\u001b[0m\n\u001b[0;32m    878\u001b[0m             \u001b[0mself\u001b[0m\u001b[1;33m.\u001b[0m\u001b[0moptions\u001b[0m\u001b[1;33m[\u001b[0m\u001b[1;34m\"has_index_names\"\u001b[0m\u001b[1;33m]\u001b[0m \u001b[1;33m=\u001b[0m \u001b[0mkwds\u001b[0m\u001b[1;33m[\u001b[0m\u001b[1;34m\"has_index_names\"\u001b[0m\u001b[1;33m]\u001b[0m\u001b[1;33m\u001b[0m\u001b[1;33m\u001b[0m\u001b[0m\n\u001b[0;32m    879\u001b[0m \u001b[1;33m\u001b[0m\u001b[0m\n\u001b[1;32m--> 880\u001b[1;33m         \u001b[0mself\u001b[0m\u001b[1;33m.\u001b[0m\u001b[0m_make_engine\u001b[0m\u001b[1;33m(\u001b[0m\u001b[0mself\u001b[0m\u001b[1;33m.\u001b[0m\u001b[0mengine\u001b[0m\u001b[1;33m)\u001b[0m\u001b[1;33m\u001b[0m\u001b[1;33m\u001b[0m\u001b[0m\n\u001b[0m\u001b[0;32m    881\u001b[0m \u001b[1;33m\u001b[0m\u001b[0m\n\u001b[0;32m    882\u001b[0m     \u001b[1;32mdef\u001b[0m \u001b[0mclose\u001b[0m\u001b[1;33m(\u001b[0m\u001b[0mself\u001b[0m\u001b[1;33m)\u001b[0m\u001b[1;33m:\u001b[0m\u001b[1;33m\u001b[0m\u001b[1;33m\u001b[0m\u001b[0m\n",
      "\u001b[1;32mc:\\users\\tawab\\anaconda3\\envs\\explain_x\\lib\\site-packages\\pandas\\io\\parsers.py\u001b[0m in \u001b[0;36m_make_engine\u001b[1;34m(self, engine)\u001b[0m\n\u001b[0;32m   1112\u001b[0m     \u001b[1;32mdef\u001b[0m \u001b[0m_make_engine\u001b[0m\u001b[1;33m(\u001b[0m\u001b[0mself\u001b[0m\u001b[1;33m,\u001b[0m \u001b[0mengine\u001b[0m\u001b[1;33m=\u001b[0m\u001b[1;34m\"c\"\u001b[0m\u001b[1;33m)\u001b[0m\u001b[1;33m:\u001b[0m\u001b[1;33m\u001b[0m\u001b[1;33m\u001b[0m\u001b[0m\n\u001b[0;32m   1113\u001b[0m         \u001b[1;32mif\u001b[0m \u001b[0mengine\u001b[0m \u001b[1;33m==\u001b[0m \u001b[1;34m\"c\"\u001b[0m\u001b[1;33m:\u001b[0m\u001b[1;33m\u001b[0m\u001b[1;33m\u001b[0m\u001b[0m\n\u001b[1;32m-> 1114\u001b[1;33m             \u001b[0mself\u001b[0m\u001b[1;33m.\u001b[0m\u001b[0m_engine\u001b[0m \u001b[1;33m=\u001b[0m \u001b[0mCParserWrapper\u001b[0m\u001b[1;33m(\u001b[0m\u001b[0mself\u001b[0m\u001b[1;33m.\u001b[0m\u001b[0mf\u001b[0m\u001b[1;33m,\u001b[0m \u001b[1;33m**\u001b[0m\u001b[0mself\u001b[0m\u001b[1;33m.\u001b[0m\u001b[0moptions\u001b[0m\u001b[1;33m)\u001b[0m\u001b[1;33m\u001b[0m\u001b[1;33m\u001b[0m\u001b[0m\n\u001b[0m\u001b[0;32m   1115\u001b[0m         \u001b[1;32melse\u001b[0m\u001b[1;33m:\u001b[0m\u001b[1;33m\u001b[0m\u001b[1;33m\u001b[0m\u001b[0m\n\u001b[0;32m   1116\u001b[0m             \u001b[1;32mif\u001b[0m \u001b[0mengine\u001b[0m \u001b[1;33m==\u001b[0m \u001b[1;34m\"python\"\u001b[0m\u001b[1;33m:\u001b[0m\u001b[1;33m\u001b[0m\u001b[1;33m\u001b[0m\u001b[0m\n",
      "\u001b[1;32mc:\\users\\tawab\\anaconda3\\envs\\explain_x\\lib\\site-packages\\pandas\\io\\parsers.py\u001b[0m in \u001b[0;36m__init__\u001b[1;34m(self, src, **kwds)\u001b[0m\n\u001b[0;32m   1889\u001b[0m         \u001b[0mkwds\u001b[0m\u001b[1;33m[\u001b[0m\u001b[1;34m\"usecols\"\u001b[0m\u001b[1;33m]\u001b[0m \u001b[1;33m=\u001b[0m \u001b[0mself\u001b[0m\u001b[1;33m.\u001b[0m\u001b[0musecols\u001b[0m\u001b[1;33m\u001b[0m\u001b[1;33m\u001b[0m\u001b[0m\n\u001b[0;32m   1890\u001b[0m \u001b[1;33m\u001b[0m\u001b[0m\n\u001b[1;32m-> 1891\u001b[1;33m         \u001b[0mself\u001b[0m\u001b[1;33m.\u001b[0m\u001b[0m_reader\u001b[0m \u001b[1;33m=\u001b[0m \u001b[0mparsers\u001b[0m\u001b[1;33m.\u001b[0m\u001b[0mTextReader\u001b[0m\u001b[1;33m(\u001b[0m\u001b[0msrc\u001b[0m\u001b[1;33m,\u001b[0m \u001b[1;33m**\u001b[0m\u001b[0mkwds\u001b[0m\u001b[1;33m)\u001b[0m\u001b[1;33m\u001b[0m\u001b[1;33m\u001b[0m\u001b[0m\n\u001b[0m\u001b[0;32m   1892\u001b[0m         \u001b[0mself\u001b[0m\u001b[1;33m.\u001b[0m\u001b[0munnamed_cols\u001b[0m \u001b[1;33m=\u001b[0m \u001b[0mself\u001b[0m\u001b[1;33m.\u001b[0m\u001b[0m_reader\u001b[0m\u001b[1;33m.\u001b[0m\u001b[0munnamed_cols\u001b[0m\u001b[1;33m\u001b[0m\u001b[1;33m\u001b[0m\u001b[0m\n\u001b[0;32m   1893\u001b[0m \u001b[1;33m\u001b[0m\u001b[0m\n",
      "\u001b[1;32mpandas\\_libs\\parsers.pyx\u001b[0m in \u001b[0;36mpandas._libs.parsers.TextReader.__cinit__\u001b[1;34m()\u001b[0m\n",
      "\u001b[1;32mpandas\\_libs\\parsers.pyx\u001b[0m in \u001b[0;36mpandas._libs.parsers.TextReader._setup_parser_source\u001b[1;34m()\u001b[0m\n",
      "\u001b[1;31mFileNotFoundError\u001b[0m: [Errno 2] File ionosphere.csv does not exist: 'ionosphere.csv'"
     ]
    }
   ],
   "source": [
    "df = pd.read_csv(\"ionosphere.csv\",header=None)"
   ]
  },
  {
   "cell_type": "code",
   "execution_count": 4,
   "metadata": {},
   "outputs": [],
   "source": [
    "df[34] = np.where(df[34]=='g',1,0)"
   ]
  },
  {
   "cell_type": "code",
   "execution_count": 5,
   "metadata": {},
   "outputs": [],
   "source": [
    "y = list(df[34])\n",
    "x= df.drop([34],axis=1)"
   ]
  },
  {
   "cell_type": "code",
   "execution_count": 6,
   "metadata": {},
   "outputs": [
    {
     "data": {
      "text/plain": [
       "RandomForestClassifier()"
      ]
     },
     "execution_count": 6,
     "metadata": {},
     "output_type": "execute_result"
    }
   ],
   "source": [
    "# Train randomforest model\n",
    "\n",
    "model = RandomForestClassifier()\n",
    "\n",
    "model.fit(x, y)\n",
    "\n",
    "# xgboost\n",
    "# model = xgboost.train({\"learning_rate\": 0.01}, xgboost.DMatrix(X_train, label=y_train), 100)"
   ]
  },
  {
   "cell_type": "code",
   "execution_count": null,
   "metadata": {},
   "outputs": [],
   "source": []
  },
  {
   "cell_type": "code",
   "execution_count": 7,
   "metadata": {},
   "outputs": [
    {
     "name": "stdout",
     "output_type": "stream",
     "text": [
      " * Serving Flask app \"apps.webapp.server.server\" (lazy loading)\n",
      " * Environment: production\n",
      "   WARNING: This is a development server. Do not use it in a production deployment.\n",
      "   Use a production WSGI server instead.\n",
      " * Debug mode: off\n"
     ]
    },
    {
     "name": "stderr",
     "output_type": "stream",
     "text": [
      " * Running on http://127.0.0.1:6060/ (Press CTRL+C to quit)\n",
      "127.0.0.1 - - [21/Sep/2020 18:57:13] \"\u001b[33mGET /static/explainx_logo_main.png HTTP/1.1\u001b[0m\" 404 -\n",
      "127.0.0.1 - - [21/Sep/2020 18:57:20] \"\u001b[32mPOST /login HTTP/1.1\u001b[0m\" 302 -\n",
      "127.0.0.1 - - [21/Sep/2020 18:57:20] \"\u001b[36mGET /dashboard HTTP/1.1\u001b[0m\" 304 -\n"
     ]
    },
    {
     "name": "stdout",
     "output_type": "stream",
     "text": [
      "return index.html\n"
     ]
    },
    {
     "name": "stderr",
     "output_type": "stream",
     "text": [
      "127.0.0.1 - - [21/Sep/2020 18:57:20] \"\u001b[37mOPTIONS /generate_surrogate_rules/ HTTP/1.1\u001b[0m\" 200 -\n"
     ]
    },
    {
     "name": "stdout",
     "output_type": "stream",
     "text": [
      "generate rules\n",
      "===== generate surrogate rules ======\n",
      "***** finish transforming ordinal data *****\n",
      "[0.04695117 0.         0.06463054 0.03236676 0.12055029 0.02348235\n",
      " 0.06151469 0.03454971 0.0248065  0.02540664 0.01742993 0.02960873\n",
      " 0.01624827 0.01995526 0.017333   0.01151796 0.01554764 0.01671782\n",
      " 0.01871414 0.01378313 0.01378811 0.02284875 0.017594   0.02142079\n",
      " 0.01694815 0.0203169  0.14512054 0.02010821 0.01512411 0.01433479\n",
      " 0.02779719 0.01286075 0.02011373 0.02050945]\n",
      "***** finish training surrogate random forest *****\n",
      "surrogate overall fidelity: 1.0\n",
      "***** finish node indexing for tree no. 0 / 100 *****\n",
      "***** finish node indexing for tree no. 1 / 100 *****\n",
      "***** finish node indexing for tree no. 2 / 100 *****\n",
      "***** finish node indexing for tree no. 3 / 100 *****\n",
      "***** finish node indexing for tree no. 4 / 100 *****\n",
      "***** finish node indexing for tree no. 5 / 100 *****\n",
      "***** finish node indexing for tree no. 6 / 100 *****\n",
      "***** finish node indexing for tree no. 7 / 100 *****\n",
      "***** finish node indexing for tree no. 8 / 100 *****\n",
      "***** finish node indexing for tree no. 9 / 100 *****\n",
      "***** finish node indexing for tree no. 10 / 100 *****\n",
      "***** finish node indexing for tree no. 11 / 100 *****\n",
      "***** finish node indexing for tree no. 12 / 100 *****\n",
      "***** finish node indexing for tree no. 13 / 100 *****\n",
      "***** finish node indexing for tree no. 14 / 100 *****\n",
      "***** finish node indexing for tree no. 15 / 100 *****\n",
      "***** finish node indexing for tree no. 16 / 100 *****\n",
      "***** finish node indexing for tree no. 17 / 100 *****\n",
      "***** finish node indexing for tree no. 18 / 100 *****\n",
      "***** finish node indexing for tree no. 19 / 100 *****\n",
      "***** finish node indexing for tree no. 20 / 100 *****\n",
      "***** finish node indexing for tree no. 21 / 100 *****\n",
      "***** finish node indexing for tree no. 22 / 100 *****\n",
      "***** finish node indexing for tree no. 23 / 100 *****\n",
      "***** finish node indexing for tree no. 24 / 100 *****\n",
      "***** finish node indexing for tree no. 25 / 100 *****\n",
      "***** finish node indexing for tree no. 26 / 100 *****\n",
      "***** finish node indexing for tree no. 27 / 100 *****\n",
      "***** finish node indexing for tree no. 28 / 100 *****\n",
      "***** finish node indexing for tree no. 29 / 100 *****\n",
      "***** finish node indexing for tree no. 30 / 100 *****\n",
      "***** finish node indexing for tree no. 31 / 100 *****\n",
      "***** finish node indexing for tree no. 32 / 100 *****\n",
      "***** finish node indexing for tree no. 33 / 100 *****\n",
      "***** finish node indexing for tree no. 34 / 100 *****\n",
      "***** finish node indexing for tree no. 35 / 100 *****\n",
      "***** finish node indexing for tree no. 36 / 100 *****\n",
      "***** finish node indexing for tree no. 37 / 100 *****\n",
      "***** finish node indexing for tree no. 38 / 100 *****\n",
      "***** finish node indexing for tree no. 39 / 100 *****\n",
      "***** finish node indexing for tree no. 40 / 100 *****\n",
      "***** finish node indexing for tree no. 41 / 100 *****\n",
      "***** finish node indexing for tree no. 42 / 100 *****\n",
      "***** finish node indexing for tree no. 43 / 100 *****\n",
      "***** finish node indexing for tree no. 44 / 100 *****\n",
      "***** finish node indexing for tree no. 45 / 100 *****\n",
      "***** finish node indexing for tree no. 46 / 100 *****\n",
      "***** finish node indexing for tree no. 47 / 100 *****\n",
      "***** finish node indexing for tree no. 48 / 100 *****\n",
      "***** finish node indexing for tree no. 49 / 100 *****\n",
      "***** finish node indexing for tree no. 50 / 100 *****\n",
      "***** finish node indexing for tree no. 51 / 100 *****\n",
      "***** finish node indexing for tree no. 52 / 100 *****\n",
      "***** finish node indexing for tree no. 53 / 100 *****\n",
      "***** finish node indexing for tree no. 54 / 100 *****\n",
      "***** finish node indexing for tree no. 55 / 100 *****\n",
      "***** finish node indexing for tree no. 56 / 100 *****\n",
      "***** finish node indexing for tree no. 57 / 100 *****\n",
      "***** finish node indexing for tree no. 58 / 100 *****\n",
      "***** finish node indexing for tree no. 59 / 100 *****\n",
      "***** finish node indexing for tree no. 60 / 100 *****\n",
      "***** finish node indexing for tree no. 61 / 100 *****\n",
      "***** finish node indexing for tree no. 62 / 100 *****\n",
      "***** finish node indexing for tree no. 63 / 100 *****\n",
      "***** finish node indexing for tree no. 64 / 100 *****\n",
      "***** finish node indexing for tree no. 65 / 100 *****\n",
      "***** finish node indexing for tree no. 66 / 100 *****\n",
      "***** finish node indexing for tree no. 67 / 100 *****\n",
      "***** finish node indexing for tree no. 68 / 100 *****\n",
      "***** finish node indexing for tree no. 69 / 100 *****\n",
      "***** finish node indexing for tree no. 70 / 100 *****\n",
      "***** finish node indexing for tree no. 71 / 100 *****\n",
      "***** finish node indexing for tree no. 72 / 100 *****\n",
      "***** finish node indexing for tree no. 73 / 100 *****\n",
      "***** finish node indexing for tree no. 74 / 100 *****\n",
      "***** finish node indexing for tree no. 75 / 100 *****\n",
      "***** finish node indexing for tree no. 76 / 100 *****\n",
      "***** finish node indexing for tree no. 77 / 100 *****\n",
      "***** finish node indexing for tree no. 78 / 100 *****\n",
      "***** finish node indexing for tree no. 79 / 100 *****\n",
      "***** finish node indexing for tree no. 80 / 100 *****\n",
      "***** finish node indexing for tree no. 81 / 100 *****\n",
      "***** finish node indexing for tree no. 82 / 100 *****\n",
      "***** finish node indexing for tree no. 83 / 100 *****\n",
      "***** finish node indexing for tree no. 84 / 100 *****\n",
      "***** finish node indexing for tree no. 85 / 100 *****\n",
      "***** finish node indexing for tree no. 86 / 100 *****\n",
      "***** finish node indexing for tree no. 87 / 100 *****\n",
      "***** finish node indexing for tree no. 88 / 100 *****\n",
      "***** finish node indexing for tree no. 89 / 100 *****\n",
      "***** finish node indexing for tree no. 90 / 100 *****\n",
      "***** finish node indexing for tree no. 91 / 100 *****\n",
      "***** finish node indexing for tree no. 92 / 100 *****\n",
      "***** finish node indexing for tree no. 93 / 100 *****\n",
      "***** finish node indexing for tree no. 94 / 100 *****\n",
      "***** finish node indexing for tree no. 95 / 100 *****\n",
      "***** finish node indexing for tree no. 96 / 100 *****\n",
      "***** finish node indexing for tree no. 97 / 100 *****\n",
      "***** finish node indexing for tree no. 98 / 100 *****\n",
      "***** finish node indexing for tree no. 99 / 100 *****\n"
     ]
    },
    {
     "name": "stderr",
     "output_type": "stream",
     "text": [
      "127.0.0.1 - - [21/Sep/2020 18:57:22] \"\u001b[37mPOST /generate_surrogate_rules/ HTTP/1.1\u001b[0m\" 200 -\n"
     ]
    }
   ],
   "source": [
    "explainx_pro.rule_exploration(x,y,model)"
   ]
  },
  {
   "cell_type": "code",
   "execution_count": null,
   "metadata": {},
   "outputs": [],
   "source": []
  }
 ],
 "metadata": {
  "kernelspec": {
   "display_name": "Python 3",
   "language": "python",
   "name": "python3"
  },
  "language_info": {
   "codemirror_mode": {
    "name": "ipython",
    "version": 3
   },
   "file_extension": ".py",
   "mimetype": "text/x-python",
   "name": "python",
   "nbconvert_exporter": "python",
   "pygments_lexer": "ipython3",
   "version": "3.7.7"
  }
 },
 "nbformat": 4,
 "nbformat_minor": 4
}
