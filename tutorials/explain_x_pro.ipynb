{
 "cells": [
  {
   "cell_type": "code",
   "execution_count": 1,
   "metadata": {},
   "outputs": [],
   "source": [
    "from explainx_pro import *\n",
    "from sklearn.ensemble import RandomForestClassifier\n",
    "from sklearn.model_selection import train_test_split"
   ]
  },
  {
   "cell_type": "code",
   "execution_count": 2,
   "metadata": {},
   "outputs": [],
   "source": [
    "# import heloc Dataset\n",
    "X,y = explainx_pro.dataset_heloc()\n",
    "\n",
    "# Split data into train and test.\n",
    "X_train, X_test, y_train, y_test = train_test_split(X,y, test_size=0.3, random_state=0)\n"
   ]
  },
  {
   "cell_type": "code",
   "execution_count": 3,
   "metadata": {},
   "outputs": [
    {
     "data": {
      "text/plain": [
       "RandomForestClassifier()"
      ]
     },
     "execution_count": 3,
     "metadata": {},
     "output_type": "execute_result"
    }
   ],
   "source": [
    "# Train randomforest model\n",
    "\n",
    "model = RandomForestClassifier()\n",
    "\n",
    "model.fit(X_train, y_train)\n"
   ]
  },
  {
   "cell_type": "code",
   "execution_count": null,
   "metadata": {},
   "outputs": [],
   "source": []
  },
  {
   "cell_type": "code",
   "execution_count": null,
   "metadata": {},
   "outputs": [
    {
     "name": "stdout",
     "output_type": "stream",
     "text": [
      " * Serving Flask app \"apps.webapp.server.server\" (lazy loading)\n",
      " * Environment: production\n",
      "   WARNING: This is a development server. Do not use it in a production deployment.\n",
      "   Use a production WSGI server instead.\n",
      " * Debug mode: off\n"
     ]
    },
    {
     "name": "stderr",
     "output_type": "stream",
     "text": [
      " * Running on http://127.0.0.1:6060/ (Press CTRL+C to quit)\n",
      "127.0.0.1 - - [21/Sep/2020 19:35:44] \"\u001b[33mGET /static/explainx_logo_main.png HTTP/1.1\u001b[0m\" 404 -\n",
      "127.0.0.1 - - [21/Sep/2020 19:35:53] \"\u001b[32mPOST /login HTTP/1.1\u001b[0m\" 302 -\n",
      "127.0.0.1 - - [21/Sep/2020 19:35:53] \"\u001b[36mGET /dashboard HTTP/1.1\u001b[0m\" 304 -\n"
     ]
    },
    {
     "name": "stdout",
     "output_type": "stream",
     "text": [
      "return index.html\n"
     ]
    },
    {
     "name": "stderr",
     "output_type": "stream",
     "text": [
      "127.0.0.1 - - [21/Sep/2020 19:35:54] \"\u001b[37mOPTIONS /generate_surrogate_rules/ HTTP/1.1\u001b[0m\" 200 -\n"
     ]
    },
    {
     "name": "stdout",
     "output_type": "stream",
     "text": [
      "generate rules\n",
      "===== generate surrogate rules ======\n",
      "***** finish transforming ordinal data *****\n",
      "[0.11117524 0.05499361 0.04711614 0.06685128 0.04203289 0.01931235\n",
      " 0.00175092 0.04566256 0.01602258 0.04076356 0.0321335  0.04018064\n",
      " 0.0353951  0.05157632 0.05587248 0.03234385 0.02959115 0.06309212\n",
      " 0.04006581 0.0442295  0.04473753 0.03456719 0.05053368]\n",
      "***** finish training surrogate random forest *****\n",
      "surrogate overall fidelity: 0.9995902199153122\n",
      "***** finish node indexing for tree no. 0 / 100 *****\n",
      "***** finish node indexing for tree no. 1 / 100 *****\n",
      "***** finish node indexing for tree no. 2 / 100 *****\n",
      "***** finish node indexing for tree no. 3 / 100 *****\n",
      "***** finish node indexing for tree no. 4 / 100 *****\n",
      "***** finish node indexing for tree no. 5 / 100 *****\n",
      "***** finish node indexing for tree no. 6 / 100 *****\n",
      "***** finish node indexing for tree no. 7 / 100 *****\n",
      "***** finish node indexing for tree no. 8 / 100 *****\n",
      "***** finish node indexing for tree no. 9 / 100 *****\n",
      "***** finish node indexing for tree no. 10 / 100 *****\n",
      "***** finish node indexing for tree no. 11 / 100 *****\n",
      "***** finish node indexing for tree no. 12 / 100 *****\n",
      "***** finish node indexing for tree no. 13 / 100 *****\n",
      "***** finish node indexing for tree no. 14 / 100 *****\n",
      "***** finish node indexing for tree no. 15 / 100 *****\n",
      "***** finish node indexing for tree no. 16 / 100 *****\n",
      "***** finish node indexing for tree no. 17 / 100 *****\n",
      "***** finish node indexing for tree no. 18 / 100 *****\n",
      "***** finish node indexing for tree no. 19 / 100 *****\n",
      "***** finish node indexing for tree no. 20 / 100 *****\n",
      "***** finish node indexing for tree no. 21 / 100 *****\n",
      "***** finish node indexing for tree no. 22 / 100 *****\n",
      "***** finish node indexing for tree no. 23 / 100 *****\n",
      "***** finish node indexing for tree no. 24 / 100 *****\n",
      "***** finish node indexing for tree no. 25 / 100 *****\n",
      "***** finish node indexing for tree no. 26 / 100 *****\n",
      "***** finish node indexing for tree no. 27 / 100 *****\n",
      "***** finish node indexing for tree no. 28 / 100 *****\n",
      "***** finish node indexing for tree no. 29 / 100 *****\n",
      "***** finish node indexing for tree no. 30 / 100 *****\n",
      "***** finish node indexing for tree no. 31 / 100 *****\n",
      "***** finish node indexing for tree no. 32 / 100 *****\n",
      "***** finish node indexing for tree no. 33 / 100 *****\n",
      "***** finish node indexing for tree no. 34 / 100 *****\n",
      "***** finish node indexing for tree no. 35 / 100 *****\n",
      "***** finish node indexing for tree no. 36 / 100 *****\n",
      "***** finish node indexing for tree no. 37 / 100 *****\n",
      "***** finish node indexing for tree no. 38 / 100 *****\n",
      "***** finish node indexing for tree no. 39 / 100 *****\n",
      "***** finish node indexing for tree no. 40 / 100 *****\n",
      "***** finish node indexing for tree no. 41 / 100 *****\n",
      "***** finish node indexing for tree no. 42 / 100 *****\n",
      "***** finish node indexing for tree no. 43 / 100 *****\n",
      "***** finish node indexing for tree no. 44 / 100 *****\n",
      "***** finish node indexing for tree no. 45 / 100 *****\n",
      "***** finish node indexing for tree no. 46 / 100 *****\n",
      "***** finish node indexing for tree no. 47 / 100 *****\n",
      "***** finish node indexing for tree no. 48 / 100 *****\n",
      "***** finish node indexing for tree no. 49 / 100 *****\n",
      "***** finish node indexing for tree no. 50 / 100 *****\n",
      "***** finish node indexing for tree no. 51 / 100 *****\n",
      "***** finish node indexing for tree no. 52 / 100 *****\n",
      "***** finish node indexing for tree no. 53 / 100 *****\n",
      "***** finish node indexing for tree no. 54 / 100 *****\n",
      "***** finish node indexing for tree no. 55 / 100 *****\n",
      "***** finish node indexing for tree no. 56 / 100 *****\n",
      "***** finish node indexing for tree no. 57 / 100 *****\n",
      "***** finish node indexing for tree no. 58 / 100 *****\n",
      "***** finish node indexing for tree no. 59 / 100 *****\n",
      "***** finish node indexing for tree no. 60 / 100 *****\n",
      "***** finish node indexing for tree no. 61 / 100 *****\n",
      "***** finish node indexing for tree no. 62 / 100 *****\n",
      "***** finish node indexing for tree no. 63 / 100 *****\n",
      "***** finish node indexing for tree no. 64 / 100 *****\n",
      "***** finish node indexing for tree no. 65 / 100 *****\n",
      "***** finish node indexing for tree no. 66 / 100 *****\n",
      "***** finish node indexing for tree no. 67 / 100 *****\n",
      "***** finish node indexing for tree no. 68 / 100 *****\n",
      "***** finish node indexing for tree no. 69 / 100 *****\n",
      "***** finish node indexing for tree no. 70 / 100 *****\n",
      "***** finish node indexing for tree no. 71 / 100 *****\n",
      "***** finish node indexing for tree no. 72 / 100 *****\n",
      "***** finish node indexing for tree no. 73 / 100 *****\n",
      "***** finish node indexing for tree no. 74 / 100 *****\n",
      "***** finish node indexing for tree no. 75 / 100 *****\n",
      "***** finish node indexing for tree no. 76 / 100 *****\n",
      "***** finish node indexing for tree no. 77 / 100 *****\n",
      "***** finish node indexing for tree no. 78 / 100 *****\n",
      "***** finish node indexing for tree no. 79 / 100 *****\n",
      "***** finish node indexing for tree no. 80 / 100 *****\n",
      "***** finish node indexing for tree no. 81 / 100 *****\n",
      "***** finish node indexing for tree no. 82 / 100 *****\n",
      "***** finish node indexing for tree no. 83 / 100 *****\n",
      "***** finish node indexing for tree no. 84 / 100 *****\n",
      "***** finish node indexing for tree no. 85 / 100 *****\n",
      "***** finish node indexing for tree no. 86 / 100 *****\n",
      "***** finish node indexing for tree no. 87 / 100 *****\n",
      "***** finish node indexing for tree no. 88 / 100 *****\n",
      "***** finish node indexing for tree no. 89 / 100 *****\n",
      "***** finish node indexing for tree no. 90 / 100 *****\n",
      "***** finish node indexing for tree no. 91 / 100 *****\n",
      "***** finish node indexing for tree no. 92 / 100 *****\n",
      "***** finish node indexing for tree no. 93 / 100 *****\n",
      "***** finish node indexing for tree no. 94 / 100 *****\n",
      "***** finish node indexing for tree no. 95 / 100 *****\n",
      "***** finish node indexing for tree no. 96 / 100 *****\n",
      "***** finish node indexing for tree no. 97 / 100 *****\n",
      "***** finish node indexing for tree no. 98 / 100 *****\n",
      "***** finish node indexing for tree no. 99 / 100 *****\n"
     ]
    },
    {
     "name": "stderr",
     "output_type": "stream",
     "text": [
      "127.0.0.1 - - [21/Sep/2020 19:36:28] \"\u001b[37mPOST /generate_surrogate_rules/ HTTP/1.1\u001b[0m\" 200 -\n"
     ]
    }
   ],
   "source": [
    "explainx_pro.rule_exploration(X_train,y_train,model)"
   ]
  },
  {
   "cell_type": "code",
   "execution_count": null,
   "metadata": {},
   "outputs": [],
   "source": []
  },
  {
   "cell_type": "code",
   "execution_count": null,
   "metadata": {},
   "outputs": [],
   "source": []
  }
 ],
 "metadata": {
  "kernelspec": {
   "display_name": "Python 3",
   "language": "python",
   "name": "python3"
  },
  "language_info": {
   "codemirror_mode": {
    "name": "ipython",
    "version": 3
   },
   "file_extension": ".py",
   "mimetype": "text/x-python",
   "name": "python",
   "nbconvert_exporter": "python",
   "pygments_lexer": "ipython3",
   "version": "3.7.7"
  }
 },
 "nbformat": 4,
 "nbformat_minor": 4
}
